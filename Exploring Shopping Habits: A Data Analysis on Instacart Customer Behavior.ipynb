{
 "cells": [
  {
   "cell_type": "markdown",
   "id": "4c7b8333",
   "metadata": {},
   "source": [
    "# Instacart 2017 Analysis \n",
    "#### Instacart is a prominent grocery delivery platform that enables customers to order groceries online and have them delivered to their doorstep. Similar to services like Uber Eats and DoorDash, Instacart provides convenience by allowing users to shop from their preferred stores and have their groceries delivered.\n",
    "#### The primary objective of this project is to clean and explore the provided dataset, uncovering insights into the shopping behaviors and habits of Instacart customers. Each step involves cleaning the data, performing analysis, and providing detailed explanations of the findings.\n"
   ]
  },
  {
   "cell_type": "code",
   "execution_count": 1,
   "id": "fbf1adab",
   "metadata": {
    "scrolled": true
   },
   "outputs": [],
   "source": [
    "#pip install pandas"
   ]
  },
  {
   "cell_type": "markdown",
   "id": "326618ae",
   "metadata": {},
   "source": [
    "The Pandas library is powerful library used for data manipulation and analysis. \n",
    "The Matplotlib library is used for plotting"
   ]
  },
  {
   "cell_type": "code",
   "execution_count": 58,
   "id": "ad36396d",
   "metadata": {},
   "outputs": [],
   "source": [
    "import os\n",
    "import pandas as pd\n",
    "import matplotlib.pyplot as plt"
   ]
  },
  {
   "cell_type": "markdown",
   "id": "e7b1323f",
   "metadata": {},
   "source": [
    "In order to use Datasets we first have to upload the files by defining a file paths. For this project we will be using datasets related to Instacart"
   ]
  },
  {
   "cell_type": "code",
   "execution_count": 3,
   "id": "ad6a1efa",
   "metadata": {},
   "outputs": [],
   "source": [
    "# Define the file paths for the CSV files\n",
    "orders_path = \"datasets/instacart_orders.csv\"\n",
    "products_path = \"datasets/products.csv\"\n",
    "aisles_path = \"datasets/aisles.csv\"\n",
    "departments_path = \"datasets/departments.csv\"\n",
    "order_products_path = \"datasets/order_products.csv\""
   ]
  },
  {
   "cell_type": "markdown",
   "id": "55aa3ff3",
   "metadata": {},
   "source": [
    "Next we import data from the CSV files into Pandas DataFrames, so that way we can use the dataset for data manipulation and anylysis. "
   ]
  },
  {
   "cell_type": "code",
   "execution_count": 4,
   "id": "5130e05e",
   "metadata": {},
   "outputs": [],
   "source": [
    "# Read data with appropriate arguments to handle nonstandard formatting\n",
    "orders = pd.read_csv(orders_path, delimiter=';')\n",
    "products = pd.read_csv(products_path, delimiter=';')\n",
    "aisles = pd.read_csv(aisles_path, delimiter=';')\n",
    "departments = pd.read_csv(departments_path, delimiter=';')\n",
    "order_products = pd.read_csv(order_products_path, delimiter=';')"
   ]
  },
  {
   "cell_type": "markdown",
   "id": "2b718aae",
   "metadata": {},
   "source": [
    "In order to have smooth sailing the initial exploration helps in understanding the structure of the data, confirming successful data import, and laying the groundwork for data manipulation and analysis."
   ]
  },
  {
   "cell_type": "code",
   "execution_count": 5,
   "id": "623189f3",
   "metadata": {},
   "outputs": [
    {
     "data": {
      "text/plain": [
       "'Orders DataFrame:'"
      ]
     },
     "metadata": {},
     "output_type": "display_data"
    },
    {
     "data": {
      "text/html": [
       "<div>\n",
       "<style scoped>\n",
       "    .dataframe tbody tr th:only-of-type {\n",
       "        vertical-align: middle;\n",
       "    }\n",
       "\n",
       "    .dataframe tbody tr th {\n",
       "        vertical-align: top;\n",
       "    }\n",
       "\n",
       "    .dataframe thead th {\n",
       "        text-align: right;\n",
       "    }\n",
       "</style>\n",
       "<table border=\"1\" class=\"dataframe\">\n",
       "  <thead>\n",
       "    <tr style=\"text-align: right;\">\n",
       "      <th></th>\n",
       "      <th>order_id</th>\n",
       "      <th>user_id</th>\n",
       "      <th>order_number</th>\n",
       "      <th>order_dow</th>\n",
       "      <th>order_hour_of_day</th>\n",
       "      <th>days_since_prior_order</th>\n",
       "    </tr>\n",
       "  </thead>\n",
       "  <tbody>\n",
       "    <tr>\n",
       "      <th>0</th>\n",
       "      <td>1515936</td>\n",
       "      <td>183418</td>\n",
       "      <td>11</td>\n",
       "      <td>6</td>\n",
       "      <td>13</td>\n",
       "      <td>30.0</td>\n",
       "    </tr>\n",
       "    <tr>\n",
       "      <th>1</th>\n",
       "      <td>1690866</td>\n",
       "      <td>163593</td>\n",
       "      <td>5</td>\n",
       "      <td>5</td>\n",
       "      <td>12</td>\n",
       "      <td>9.0</td>\n",
       "    </tr>\n",
       "    <tr>\n",
       "      <th>2</th>\n",
       "      <td>1454967</td>\n",
       "      <td>39980</td>\n",
       "      <td>4</td>\n",
       "      <td>5</td>\n",
       "      <td>19</td>\n",
       "      <td>2.0</td>\n",
       "    </tr>\n",
       "    <tr>\n",
       "      <th>3</th>\n",
       "      <td>1768857</td>\n",
       "      <td>82516</td>\n",
       "      <td>56</td>\n",
       "      <td>0</td>\n",
       "      <td>20</td>\n",
       "      <td>10.0</td>\n",
       "    </tr>\n",
       "    <tr>\n",
       "      <th>4</th>\n",
       "      <td>3007858</td>\n",
       "      <td>196724</td>\n",
       "      <td>2</td>\n",
       "      <td>4</td>\n",
       "      <td>12</td>\n",
       "      <td>17.0</td>\n",
       "    </tr>\n",
       "  </tbody>\n",
       "</table>\n",
       "</div>"
      ],
      "text/plain": [
       "   order_id  user_id  order_number  order_dow  order_hour_of_day  \\\n",
       "0   1515936   183418            11          6                 13   \n",
       "1   1690866   163593             5          5                 12   \n",
       "2   1454967    39980             4          5                 19   \n",
       "3   1768857    82516            56          0                 20   \n",
       "4   3007858   196724             2          4                 12   \n",
       "\n",
       "   days_since_prior_order  \n",
       "0                    30.0  \n",
       "1                     9.0  \n",
       "2                     2.0  \n",
       "3                    10.0  \n",
       "4                    17.0  "
      ]
     },
     "metadata": {},
     "output_type": "display_data"
    },
    {
     "name": "stdout",
     "output_type": "stream",
     "text": [
      "<class 'pandas.core.frame.DataFrame'>\n",
      "RangeIndex: 478967 entries, 0 to 478966\n",
      "Data columns (total 6 columns):\n",
      " #   Column                  Non-Null Count   Dtype  \n",
      "---  ------                  --------------   -----  \n",
      " 0   order_id                478967 non-null  int64  \n",
      " 1   user_id                 478967 non-null  int64  \n",
      " 2   order_number            478967 non-null  int64  \n",
      " 3   order_dow               478967 non-null  int64  \n",
      " 4   order_hour_of_day       478967 non-null  int64  \n",
      " 5   days_since_prior_order  450148 non-null  float64\n",
      "dtypes: float64(1), int64(5)\n",
      "memory usage: 21.9 MB\n"
     ]
    },
    {
     "data": {
      "text/plain": [
       "None"
      ]
     },
     "metadata": {},
     "output_type": "display_data"
    },
    {
     "data": {
      "text/plain": [
       "'\\nProducts DataFrame:'"
      ]
     },
     "metadata": {},
     "output_type": "display_data"
    },
    {
     "data": {
      "text/html": [
       "<div>\n",
       "<style scoped>\n",
       "    .dataframe tbody tr th:only-of-type {\n",
       "        vertical-align: middle;\n",
       "    }\n",
       "\n",
       "    .dataframe tbody tr th {\n",
       "        vertical-align: top;\n",
       "    }\n",
       "\n",
       "    .dataframe thead th {\n",
       "        text-align: right;\n",
       "    }\n",
       "</style>\n",
       "<table border=\"1\" class=\"dataframe\">\n",
       "  <thead>\n",
       "    <tr style=\"text-align: right;\">\n",
       "      <th></th>\n",
       "      <th>product_id</th>\n",
       "      <th>product_name</th>\n",
       "      <th>aisle_id</th>\n",
       "      <th>department_id</th>\n",
       "    </tr>\n",
       "  </thead>\n",
       "  <tbody>\n",
       "    <tr>\n",
       "      <th>0</th>\n",
       "      <td>1</td>\n",
       "      <td>Chocolate Sandwich Cookies</td>\n",
       "      <td>61</td>\n",
       "      <td>19</td>\n",
       "    </tr>\n",
       "    <tr>\n",
       "      <th>1</th>\n",
       "      <td>2</td>\n",
       "      <td>All-Seasons Salt</td>\n",
       "      <td>104</td>\n",
       "      <td>13</td>\n",
       "    </tr>\n",
       "    <tr>\n",
       "      <th>2</th>\n",
       "      <td>3</td>\n",
       "      <td>Robust Golden Unsweetened Oolong Tea</td>\n",
       "      <td>94</td>\n",
       "      <td>7</td>\n",
       "    </tr>\n",
       "    <tr>\n",
       "      <th>3</th>\n",
       "      <td>4</td>\n",
       "      <td>Smart Ones Classic Favorites Mini Rigatoni Wit...</td>\n",
       "      <td>38</td>\n",
       "      <td>1</td>\n",
       "    </tr>\n",
       "    <tr>\n",
       "      <th>4</th>\n",
       "      <td>5</td>\n",
       "      <td>Green Chile Anytime Sauce</td>\n",
       "      <td>5</td>\n",
       "      <td>13</td>\n",
       "    </tr>\n",
       "  </tbody>\n",
       "</table>\n",
       "</div>"
      ],
      "text/plain": [
       "   product_id                                       product_name  aisle_id  \\\n",
       "0           1                         Chocolate Sandwich Cookies        61   \n",
       "1           2                                   All-Seasons Salt       104   \n",
       "2           3               Robust Golden Unsweetened Oolong Tea        94   \n",
       "3           4  Smart Ones Classic Favorites Mini Rigatoni Wit...        38   \n",
       "4           5                          Green Chile Anytime Sauce         5   \n",
       "\n",
       "   department_id  \n",
       "0             19  \n",
       "1             13  \n",
       "2              7  \n",
       "3              1  \n",
       "4             13  "
      ]
     },
     "metadata": {},
     "output_type": "display_data"
    },
    {
     "name": "stdout",
     "output_type": "stream",
     "text": [
      "<class 'pandas.core.frame.DataFrame'>\n",
      "RangeIndex: 49694 entries, 0 to 49693\n",
      "Data columns (total 4 columns):\n",
      " #   Column         Non-Null Count  Dtype \n",
      "---  ------         --------------  ----- \n",
      " 0   product_id     49694 non-null  int64 \n",
      " 1   product_name   48436 non-null  object\n",
      " 2   aisle_id       49694 non-null  int64 \n",
      " 3   department_id  49694 non-null  int64 \n",
      "dtypes: int64(3), object(1)\n",
      "memory usage: 1.5+ MB\n"
     ]
    },
    {
     "data": {
      "text/plain": [
       "None"
      ]
     },
     "metadata": {},
     "output_type": "display_data"
    },
    {
     "data": {
      "text/plain": [
       "'\\nAisles DataFrame:'"
      ]
     },
     "metadata": {},
     "output_type": "display_data"
    },
    {
     "data": {
      "text/html": [
       "<div>\n",
       "<style scoped>\n",
       "    .dataframe tbody tr th:only-of-type {\n",
       "        vertical-align: middle;\n",
       "    }\n",
       "\n",
       "    .dataframe tbody tr th {\n",
       "        vertical-align: top;\n",
       "    }\n",
       "\n",
       "    .dataframe thead th {\n",
       "        text-align: right;\n",
       "    }\n",
       "</style>\n",
       "<table border=\"1\" class=\"dataframe\">\n",
       "  <thead>\n",
       "    <tr style=\"text-align: right;\">\n",
       "      <th></th>\n",
       "      <th>aisle_id</th>\n",
       "      <th>aisle</th>\n",
       "    </tr>\n",
       "  </thead>\n",
       "  <tbody>\n",
       "    <tr>\n",
       "      <th>0</th>\n",
       "      <td>1</td>\n",
       "      <td>prepared soups salads</td>\n",
       "    </tr>\n",
       "    <tr>\n",
       "      <th>1</th>\n",
       "      <td>2</td>\n",
       "      <td>specialty cheeses</td>\n",
       "    </tr>\n",
       "    <tr>\n",
       "      <th>2</th>\n",
       "      <td>3</td>\n",
       "      <td>energy granola bars</td>\n",
       "    </tr>\n",
       "    <tr>\n",
       "      <th>3</th>\n",
       "      <td>4</td>\n",
       "      <td>instant foods</td>\n",
       "    </tr>\n",
       "    <tr>\n",
       "      <th>4</th>\n",
       "      <td>5</td>\n",
       "      <td>marinades meat preparation</td>\n",
       "    </tr>\n",
       "  </tbody>\n",
       "</table>\n",
       "</div>"
      ],
      "text/plain": [
       "   aisle_id                       aisle\n",
       "0         1       prepared soups salads\n",
       "1         2           specialty cheeses\n",
       "2         3         energy granola bars\n",
       "3         4               instant foods\n",
       "4         5  marinades meat preparation"
      ]
     },
     "metadata": {},
     "output_type": "display_data"
    },
    {
     "name": "stdout",
     "output_type": "stream",
     "text": [
      "<class 'pandas.core.frame.DataFrame'>\n",
      "RangeIndex: 134 entries, 0 to 133\n",
      "Data columns (total 2 columns):\n",
      " #   Column    Non-Null Count  Dtype \n",
      "---  ------    --------------  ----- \n",
      " 0   aisle_id  134 non-null    int64 \n",
      " 1   aisle     134 non-null    object\n",
      "dtypes: int64(1), object(1)\n",
      "memory usage: 2.2+ KB\n"
     ]
    },
    {
     "data": {
      "text/plain": [
       "None"
      ]
     },
     "metadata": {},
     "output_type": "display_data"
    },
    {
     "data": {
      "text/plain": [
       "'\\nDepartments DataFrame:'"
      ]
     },
     "metadata": {},
     "output_type": "display_data"
    },
    {
     "data": {
      "text/html": [
       "<div>\n",
       "<style scoped>\n",
       "    .dataframe tbody tr th:only-of-type {\n",
       "        vertical-align: middle;\n",
       "    }\n",
       "\n",
       "    .dataframe tbody tr th {\n",
       "        vertical-align: top;\n",
       "    }\n",
       "\n",
       "    .dataframe thead th {\n",
       "        text-align: right;\n",
       "    }\n",
       "</style>\n",
       "<table border=\"1\" class=\"dataframe\">\n",
       "  <thead>\n",
       "    <tr style=\"text-align: right;\">\n",
       "      <th></th>\n",
       "      <th>department_id</th>\n",
       "      <th>department</th>\n",
       "    </tr>\n",
       "  </thead>\n",
       "  <tbody>\n",
       "    <tr>\n",
       "      <th>0</th>\n",
       "      <td>1</td>\n",
       "      <td>frozen</td>\n",
       "    </tr>\n",
       "    <tr>\n",
       "      <th>1</th>\n",
       "      <td>2</td>\n",
       "      <td>other</td>\n",
       "    </tr>\n",
       "    <tr>\n",
       "      <th>2</th>\n",
       "      <td>3</td>\n",
       "      <td>bakery</td>\n",
       "    </tr>\n",
       "    <tr>\n",
       "      <th>3</th>\n",
       "      <td>4</td>\n",
       "      <td>produce</td>\n",
       "    </tr>\n",
       "    <tr>\n",
       "      <th>4</th>\n",
       "      <td>5</td>\n",
       "      <td>alcohol</td>\n",
       "    </tr>\n",
       "  </tbody>\n",
       "</table>\n",
       "</div>"
      ],
      "text/plain": [
       "   department_id department\n",
       "0              1     frozen\n",
       "1              2      other\n",
       "2              3     bakery\n",
       "3              4    produce\n",
       "4              5    alcohol"
      ]
     },
     "metadata": {},
     "output_type": "display_data"
    },
    {
     "name": "stdout",
     "output_type": "stream",
     "text": [
      "<class 'pandas.core.frame.DataFrame'>\n",
      "RangeIndex: 21 entries, 0 to 20\n",
      "Data columns (total 2 columns):\n",
      " #   Column         Non-Null Count  Dtype \n",
      "---  ------         --------------  ----- \n",
      " 0   department_id  21 non-null     int64 \n",
      " 1   department     21 non-null     object\n",
      "dtypes: int64(1), object(1)\n",
      "memory usage: 464.0+ bytes\n"
     ]
    },
    {
     "data": {
      "text/plain": [
       "None"
      ]
     },
     "metadata": {},
     "output_type": "display_data"
    },
    {
     "data": {
      "text/plain": [
       "'\\nOrder Products DataFrame:'"
      ]
     },
     "metadata": {},
     "output_type": "display_data"
    },
    {
     "data": {
      "text/html": [
       "<div>\n",
       "<style scoped>\n",
       "    .dataframe tbody tr th:only-of-type {\n",
       "        vertical-align: middle;\n",
       "    }\n",
       "\n",
       "    .dataframe tbody tr th {\n",
       "        vertical-align: top;\n",
       "    }\n",
       "\n",
       "    .dataframe thead th {\n",
       "        text-align: right;\n",
       "    }\n",
       "</style>\n",
       "<table border=\"1\" class=\"dataframe\">\n",
       "  <thead>\n",
       "    <tr style=\"text-align: right;\">\n",
       "      <th></th>\n",
       "      <th>order_id</th>\n",
       "      <th>product_id</th>\n",
       "      <th>add_to_cart_order</th>\n",
       "      <th>reordered</th>\n",
       "    </tr>\n",
       "  </thead>\n",
       "  <tbody>\n",
       "    <tr>\n",
       "      <th>0</th>\n",
       "      <td>2141543</td>\n",
       "      <td>11440</td>\n",
       "      <td>17.0</td>\n",
       "      <td>0</td>\n",
       "    </tr>\n",
       "    <tr>\n",
       "      <th>1</th>\n",
       "      <td>567889</td>\n",
       "      <td>1560</td>\n",
       "      <td>1.0</td>\n",
       "      <td>1</td>\n",
       "    </tr>\n",
       "    <tr>\n",
       "      <th>2</th>\n",
       "      <td>2261212</td>\n",
       "      <td>26683</td>\n",
       "      <td>1.0</td>\n",
       "      <td>1</td>\n",
       "    </tr>\n",
       "    <tr>\n",
       "      <th>3</th>\n",
       "      <td>491251</td>\n",
       "      <td>8670</td>\n",
       "      <td>35.0</td>\n",
       "      <td>1</td>\n",
       "    </tr>\n",
       "    <tr>\n",
       "      <th>4</th>\n",
       "      <td>2571142</td>\n",
       "      <td>1940</td>\n",
       "      <td>5.0</td>\n",
       "      <td>1</td>\n",
       "    </tr>\n",
       "  </tbody>\n",
       "</table>\n",
       "</div>"
      ],
      "text/plain": [
       "   order_id  product_id  add_to_cart_order  reordered\n",
       "0   2141543       11440               17.0          0\n",
       "1    567889        1560                1.0          1\n",
       "2   2261212       26683                1.0          1\n",
       "3    491251        8670               35.0          1\n",
       "4   2571142        1940                5.0          1"
      ]
     },
     "metadata": {},
     "output_type": "display_data"
    },
    {
     "name": "stdout",
     "output_type": "stream",
     "text": [
      "<class 'pandas.core.frame.DataFrame'>\n",
      "RangeIndex: 4545007 entries, 0 to 4545006\n",
      "Data columns (total 4 columns):\n",
      " #   Column             Dtype  \n",
      "---  ------             -----  \n",
      " 0   order_id           int64  \n",
      " 1   product_id         int64  \n",
      " 2   add_to_cart_order  float64\n",
      " 3   reordered          int64  \n",
      "dtypes: float64(1), int64(3)\n",
      "memory usage: 138.7 MB\n"
     ]
    },
    {
     "data": {
      "text/plain": [
       "None"
      ]
     },
     "metadata": {},
     "output_type": "display_data"
    }
   ],
   "source": [
    "# Displaying the first few rows of each DataFrame\n",
    "# Check current data types of columns in each DataFrame\n",
    "display(\"Orders DataFrame:\")\n",
    "display(orders.head())\n",
    "display(orders.info())\n",
    "\n",
    "display(\"\\nProducts DataFrame:\")\n",
    "display(products.head())\n",
    "display(products.info())\n",
    "\n",
    "display(\"\\nAisles DataFrame:\")\n",
    "display(aisles.head())\n",
    "display(aisles.info())\n",
    "\n",
    "display(\"\\nDepartments DataFrame:\")\n",
    "display(departments.head())\n",
    "display(departments.info())\n",
    "\n",
    "display(\"\\nOrder Products DataFrame:\")\n",
    "display(order_products.head())\n",
    "display(order_products.info())"
   ]
  },
  {
   "cell_type": "markdown",
   "id": "c1443a1b",
   "metadata": {},
   "source": [
    "The result shows that there are a few things that needs to be fixed. The Orders Dataframe shows that days_since_prior_order column is a float, since we will not be using this column for any manipulation it is not necessary to convert it into interger. For the Products DataFrame there seems to be a duplicated column labeled as  'product_name_lower'. The rest of the DataFrame seems to not have alot of issues going on since most of the necessary columns are in interger. "
   ]
  },
  {
   "cell_type": "code",
   "execution_count": 6,
   "id": "872f9117",
   "metadata": {},
   "outputs": [],
   "source": [
    "# Verify and fix data types (converting ID columns to integers)\n",
    "orders['order_id'] = orders['order_id'].astype(int)\n",
    "orders['user_id'] = orders['user_id'].astype(int)\n",
    "products['product_id'] = products['product_id'].astype(int)\n",
    "aisles['aisle_id'] = aisles['aisle_id'].astype(int)\n",
    "departments['department_id'] = departments['department_id'].astype(int)\n",
    "order_products['add_to_cart_order'].fillna(0, inplace=True) # Replace non-finite values with 0 in 'add_to_cart_order' column\n",
    "order_products['add_to_cart_order'] = order_products['add_to_cart_order'].astype(int) # Convert 'add_to_cart_order' column to integers"
   ]
  },
  {
   "cell_type": "markdown",
   "id": "07357848-dc64-4156-9cc3-01ff4365226d",
   "metadata": {},
   "source": [
    "## Find and remove duplicate values (and describe why you make your choices)"
   ]
  },
  {
   "cell_type": "markdown",
   "id": "f179f0a9",
   "metadata": {},
   "source": [
    "### `orders` data frame"
   ]
  },
  {
   "cell_type": "code",
   "execution_count": 7,
   "id": "b99297a5-405a-463d-8535-9adc3da4ad74",
   "metadata": {},
   "outputs": [
    {
     "name": "stdout",
     "output_type": "stream",
     "text": [
      "        order_id  user_id  order_number  order_dow  order_hour_of_day  \\\n",
      "30371    1918001   188546            14          3                  2   \n",
      "99462     794638    50898            24          3                  2   \n",
      "119251    408114    68324             4          3                  2   \n",
      "142258   2845099    31189            11          3                  2   \n",
      "145574    794638    50898            24          3                  2   \n",
      "164581   1112182   202304            84          3                  2   \n",
      "200059   1782114   106752             1          3                  2   \n",
      "204042   2125197    14050            48          3                  2   \n",
      "215294   2160484   107525            16          3                  2   \n",
      "223105   2160484   107525            16          3                  2   \n",
      "230807   1918001   188546            14          3                  2   \n",
      "242618   1021560    53767             3          3                  2   \n",
      "250626    467134    63189            21          3                  2   \n",
      "257934   1919531   191501            32          3                  2   \n",
      "259636   2282673    86751            49          3                  2   \n",
      "266232   1782114   106752             1          3                  2   \n",
      "273805   1112182   202304            84          3                  2   \n",
      "284038   2845099    31189            11          3                  2   \n",
      "311713   1021560    53767             3          3                  2   \n",
      "314427   1286742   183220            48          3                  2   \n",
      "321100    408114    68324             4          3                  2   \n",
      "323900   1919531   191501            32          3                  2   \n",
      "324868   2232988    82565             1          3                  2   \n",
      "345917   2232988    82565             1          3                  2   \n",
      "354993    391768    57671            19          3                  2   \n",
      "371905    391768    57671            19          3                  2   \n",
      "394347    467134    63189            21          3                  2   \n",
      "411408   1286742   183220            48          3                  2   \n",
      "415163   2282673    86751            49          3                  2   \n",
      "441599   2125197    14050            48          3                  2   \n",
      "\n",
      "        days_since_prior_order  \n",
      "30371                     16.0  \n",
      "99462                      2.0  \n",
      "119251                    18.0  \n",
      "142258                     7.0  \n",
      "145574                     2.0  \n",
      "164581                     6.0  \n",
      "200059                     NaN  \n",
      "204042                     3.0  \n",
      "215294                    30.0  \n",
      "223105                    30.0  \n",
      "230807                    16.0  \n",
      "242618                     9.0  \n",
      "250626                     2.0  \n",
      "257934                     7.0  \n",
      "259636                     2.0  \n",
      "266232                     NaN  \n",
      "273805                     6.0  \n",
      "284038                     7.0  \n",
      "311713                     9.0  \n",
      "314427                     4.0  \n",
      "321100                    18.0  \n",
      "323900                     7.0  \n",
      "324868                     NaN  \n",
      "345917                     NaN  \n",
      "354993                    10.0  \n",
      "371905                    10.0  \n",
      "394347                     2.0  \n",
      "411408                     4.0  \n",
      "415163                     2.0  \n",
      "441599                     3.0  \n"
     ]
    }
   ],
   "source": [
    "# Check for duplicated orders\n",
    "duplicated_orders = orders[orders.duplicated(keep=False)]\n",
    "print(duplicated_orders)"
   ]
  },
  {
   "cell_type": "code",
   "execution_count": 8,
   "id": "0d44de5d",
   "metadata": {},
   "outputs": [
    {
     "name": "stdout",
     "output_type": "stream",
     "text": [
      "        order_id  user_id  order_number  order_dow  order_hour_of_day  \\\n",
      "1295     1474941   115569             5          2                  2   \n",
      "2391     1640269   173965            15          2                  2   \n",
      "2550     1223696    55276            11          2                  2   \n",
      "5965      579194    85018            14          2                  2   \n",
      "17680    2004230   203121             4          2                  2   \n",
      "...          ...      ...           ...        ...                ...   \n",
      "457660   1562381    19378             5          2                  2   \n",
      "460316   1986084   117453            81          2                  2   \n",
      "462676   1362113    19654            20          2                  2   \n",
      "472800   1746383    88484            19          2                  2   \n",
      "472923   1519815   149345             1          2                  2   \n",
      "\n",
      "        days_since_prior_order  \n",
      "1295                      28.0  \n",
      "2391                       2.0  \n",
      "2550                      30.0  \n",
      "5965                      11.0  \n",
      "17680                      8.0  \n",
      "...                        ...  \n",
      "457660                     6.0  \n",
      "460316                     8.0  \n",
      "462676                    21.0  \n",
      "472800                     5.0  \n",
      "472923                     NaN  \n",
      "\n",
      "[136 rows x 6 columns]\n"
     ]
    }
   ],
   "source": [
    "# Check for all orders placed Wednesday at 2:00 AM\n",
    "wednesday_2_am_orders = orders[(orders['order_dow'] == 2) & (orders['order_hour_of_day'] == 2)]\n",
    "print(wednesday_2_am_orders)"
   ]
  },
  {
   "cell_type": "code",
   "execution_count": 9,
   "id": "480563c7",
   "metadata": {},
   "outputs": [],
   "source": [
    "# Remove duplicate orders\n",
    "orders.drop_duplicates(inplace=True)"
   ]
  },
  {
   "cell_type": "code",
   "execution_count": 10,
   "id": "0b2396a2",
   "metadata": {},
   "outputs": [
    {
     "name": "stdout",
     "output_type": "stream",
     "text": [
      "Empty DataFrame\n",
      "Columns: [order_id, user_id, order_number, order_dow, order_hour_of_day, days_since_prior_order]\n",
      "Index: []\n"
     ]
    }
   ],
   "source": [
    "# Remove duplicate orders\n",
    "orders.drop_duplicates(inplace=True)# Double check for duplicate rows\n",
    "duplicate_rows = orders[orders.duplicated()]\n",
    "print(duplicate_rows)"
   ]
  },
  {
   "cell_type": "code",
   "execution_count": 11,
   "id": "f6113ef1",
   "metadata": {},
   "outputs": [
    {
     "name": "stdout",
     "output_type": "stream",
     "text": [
      "Empty DataFrame\n",
      "Columns: [order_id, user_id, order_number, order_dow, order_hour_of_day, days_since_prior_order]\n",
      "Index: []\n"
     ]
    }
   ],
   "source": [
    "# Double check for duplicate order IDs only\n",
    "duplicate_rows = orders[orders.duplicated(subset='order_id')]\n",
    "print(duplicate_rows)"
   ]
  },
  {
   "cell_type": "markdown",
   "id": "5e8905ae",
   "metadata": {},
   "source": [
    "The result indicates that initially, no duplicates were found in the 'order_products' DataFrame. Subsequently, while there were 136 orders placed on Wednesday at 2:00 AM, the 'orders' DataFrame duplicates were successfully removed. All task has been performe sucessfully since double checking for duplicates shows that empty DataFrame. "
   ]
  },
  {
   "cell_type": "markdown",
   "id": "45e6bc46",
   "metadata": {},
   "source": [
    "### `products` data frame"
   ]
  },
  {
   "cell_type": "code",
   "execution_count": 12,
   "id": "5f526b5b-8175-46fa-a0fd-441767d50e64",
   "metadata": {},
   "outputs": [
    {
     "name": "stdout",
     "output_type": "stream",
     "text": [
      "Empty DataFrame\n",
      "Columns: [product_id, product_name, aisle_id, department_id]\n",
      "Index: []\n"
     ]
    }
   ],
   "source": [
    "# Check for fully duplicate rows\n",
    "duplicated_products = products[products.duplicated(keep=False)]\n",
    "print(duplicated_products)"
   ]
  },
  {
   "cell_type": "code",
   "execution_count": 13,
   "id": "88daa4f4",
   "metadata": {},
   "outputs": [
    {
     "name": "stdout",
     "output_type": "stream",
     "text": [
      "Empty DataFrame\n",
      "Columns: [product_id, product_name, aisle_id, department_id]\n",
      "Index: []\n"
     ]
    }
   ],
   "source": [
    "# Check for just duplicate product IDs\n",
    "duplicated_products = products[products.duplicated(subset=['product_id'], keep='first')]\n",
    "print(duplicated_products)"
   ]
  },
  {
   "cell_type": "code",
   "execution_count": 14,
   "id": "c773f0bf",
   "metadata": {},
   "outputs": [
    {
     "name": "stdout",
     "output_type": "stream",
     "text": [
      "       product_id                                     product_name  aisle_id  \\\n",
      "37             38                                              NaN       100   \n",
      "41             42                                  Biotin 1000 mcg        47   \n",
      "71             72                                              NaN       100   \n",
      "109           110                                              NaN       100   \n",
      "185           186       Fresh Scent Dishwasher Detergent with Dawn        74   \n",
      "...           ...                                              ...       ...   \n",
      "49689       49690                    HIGH PERFORMANCE ENERGY DRINK        64   \n",
      "49690       49691                    ORIGINAL PANCAKE & WAFFLE MIX       130   \n",
      "49691       49692  ORGANIC INSTANT OATMEAL LIGHT MAPLE BROWN SUGAR       130   \n",
      "49692       49693                           SPRING WATER BODY WASH       127   \n",
      "49693       49694                          BURRITO- STEAK & CHEESE        38   \n",
      "\n",
      "       department_id                               product_name_lower  \n",
      "37                21                                              NaN  \n",
      "41                11                                  biotin 1000 mcg  \n",
      "71                21                                              NaN  \n",
      "109               21                                              NaN  \n",
      "185               17       fresh scent dishwasher detergent with dawn  \n",
      "...              ...                                              ...  \n",
      "49689              7                    high performance energy drink  \n",
      "49690             14                    original pancake & waffle mix  \n",
      "49691             14  organic instant oatmeal light maple brown sugar  \n",
      "49692             11                           spring water body wash  \n",
      "49693              1                          burrito- steak & cheese  \n",
      "\n",
      "[1465 rows x 5 columns]\n"
     ]
    }
   ],
   "source": [
    "# Check for just duplicate product names (convert names to lowercase to compare better)\n",
    "products['product_name_lower'] = products['product_name'].str.lower()\n",
    "duplicated_product_names = products[products.duplicated(subset=['product_name_lower'], keep=False)]\n",
    "print(duplicated_product_names)"
   ]
  },
  {
   "cell_type": "code",
   "execution_count": 15,
   "id": "01efd02e",
   "metadata": {},
   "outputs": [
    {
     "name": "stdout",
     "output_type": "stream",
     "text": [
      "       product_id                                     product_name  aisle_id  \\\n",
      "41             42                                  Biotin 1000 mcg        47   \n",
      "185           186       Fresh Scent Dishwasher Detergent with Dawn        74   \n",
      "515           516                           American Cheese Slices        21   \n",
      "1538         1539                                 Cauliflower head        83   \n",
      "1783         1784              NUTrition Protein Mix Blueberry Nut       117   \n",
      "...           ...                                              ...       ...   \n",
      "49689       49690                    HIGH PERFORMANCE ENERGY DRINK        64   \n",
      "49690       49691                    ORIGINAL PANCAKE & WAFFLE MIX       130   \n",
      "49691       49692  ORGANIC INSTANT OATMEAL LIGHT MAPLE BROWN SUGAR       130   \n",
      "49692       49693                           SPRING WATER BODY WASH       127   \n",
      "49693       49694                          BURRITO- STEAK & CHEESE        38   \n",
      "\n",
      "       department_id                               product_name_lower  \n",
      "41                11                                  biotin 1000 mcg  \n",
      "185               17       fresh scent dishwasher detergent with dawn  \n",
      "515               16                           american cheese slices  \n",
      "1538               4                                 cauliflower head  \n",
      "1783              19              nutrition protein mix blueberry nut  \n",
      "...              ...                                              ...  \n",
      "49689              7                    high performance energy drink  \n",
      "49690             14                    original pancake & waffle mix  \n",
      "49691             14  organic instant oatmeal light maple brown sugar  \n",
      "49692             11                           spring water body wash  \n",
      "49693              1                          burrito- steak & cheese  \n",
      "\n",
      "[207 rows x 5 columns]\n"
     ]
    },
    {
     "name": "stderr",
     "output_type": "stream",
     "text": [
      "/var/folders/p3/43px2jb159dgb_cp9t6gw27h0000gn/T/ipykernel_24012/4117066268.py:7: SettingWithCopyWarning: \n",
      "A value is trying to be set on a copy of a slice from a DataFrame.\n",
      "Try using .loc[row_indexer,col_indexer] = value instead\n",
      "\n",
      "See the caveats in the documentation: https://pandas.pydata.org/pandas-docs/stable/user_guide/indexing.html#returning-a-view-versus-a-copy\n",
      "  products_cleaned['product_name_lower'] = products_cleaned['product_name'].str.lower()\n"
     ]
    }
   ],
   "source": [
    "# Check for duplicate product names that aren't missing\n",
    "\n",
    "# Drop missing values in the 'product_name' column\n",
    "products_cleaned = products.dropna(subset=['product_name'])\n",
    "\n",
    "# Convert product names to lowercase\n",
    "products_cleaned['product_name_lower'] = products_cleaned['product_name'].str.lower()\n",
    "\n",
    "# Check for duplicates in lowercase product names\n",
    "duplicated_non_missing_names = products_cleaned[products_cleaned.duplicated(subset=['product_name_lower'], keep=False)]\n",
    "print(duplicated_non_missing_names)\n"
   ]
  },
  {
   "cell_type": "markdown",
   "id": "9da8d293",
   "metadata": {},
   "source": [
    "There was no duplicated rows found in the Products DataFrame and 'product_id' columns. Moving on to checking for duplicate product names with case insentivie shows that there is 1465 rows with duplicate lowercase names, including NaN value under the 'product_name_lower'column and 'product_name'. In order to remove duplication using the .dropna function it drops missing values from the 'product_name' column and converts product names to lowercase in a new column 'product_name_lower'. As a resul 207 rows with duplicated, non-missing lowercase product names."
   ]
  },
  {
   "cell_type": "markdown",
   "id": "60f30db1",
   "metadata": {},
   "source": [
    "### `departments` data frame"
   ]
  },
  {
   "cell_type": "code",
   "execution_count": 16,
   "id": "fb410ad4-0fbf-4b80-bb09-23fdea79afe3",
   "metadata": {
    "scrolled": true
   },
   "outputs": [
    {
     "name": "stdout",
     "output_type": "stream",
     "text": [
      "Empty DataFrame\n",
      "Columns: [department_id, department]\n",
      "Index: []\n"
     ]
    }
   ],
   "source": [
    "# Check for fully duplicate rows\n",
    "duplicated_departments = departments[departments.duplicated(keep=False)]\n",
    "print(duplicated_departments)"
   ]
  },
  {
   "cell_type": "code",
   "execution_count": 17,
   "id": "332b12bb",
   "metadata": {},
   "outputs": [
    {
     "name": "stdout",
     "output_type": "stream",
     "text": [
      "Empty DataFrame\n",
      "Columns: [department_id, department]\n",
      "Index: []\n"
     ]
    }
   ],
   "source": [
    "# Check for just duplicate departments IDs\n",
    "duplicated_departments = departments[departments.duplicated(subset=['department_id'], keep='first')]\n",
    "print(duplicated_departments)"
   ]
  },
  {
   "cell_type": "markdown",
   "id": "bd30d78e",
   "metadata": {},
   "source": [
    "The result indicates that no duplicates were found in the Departemnts DataFrame and under the  'department_id' column of this DataFrame.  "
   ]
  },
  {
   "cell_type": "markdown",
   "id": "889349c1",
   "metadata": {},
   "source": [
    "### `aisles` data frame"
   ]
  },
  {
   "cell_type": "code",
   "execution_count": 18,
   "id": "9da89fb9-4679-40f5-ad0d-c34df753a3f8",
   "metadata": {},
   "outputs": [
    {
     "name": "stdout",
     "output_type": "stream",
     "text": [
      "Empty DataFrame\n",
      "Columns: [aisle_id, aisle]\n",
      "Index: []\n"
     ]
    }
   ],
   "source": [
    "# Check for fully duplicate rows\n",
    "duplicated_aisles = aisles[aisles.duplicated(keep=False)]\n",
    "print(duplicated_aisles)"
   ]
  },
  {
   "cell_type": "code",
   "execution_count": 19,
   "id": "da7c2822",
   "metadata": {},
   "outputs": [
    {
     "name": "stdout",
     "output_type": "stream",
     "text": [
      "Empty DataFrame\n",
      "Columns: [aisle_id, aisle]\n",
      "Index: []\n"
     ]
    }
   ],
   "source": [
    "# Check for just duplicate aisles IDs\n",
    "duplicated_aisles = aisles[aisles.duplicated(subset=['aisle_id'], keep='first')]\n",
    "print(duplicated_aisles)"
   ]
  },
  {
   "cell_type": "markdown",
   "id": "ac63826f",
   "metadata": {},
   "source": [
    "The result indicates that no duplicates were found in the Aisles DataFrame and under the  'aisles_id' column of this DataFrame.  "
   ]
  },
  {
   "cell_type": "markdown",
   "id": "274cd06a",
   "metadata": {},
   "source": [
    "### `order_products` data frame"
   ]
  },
  {
   "cell_type": "code",
   "execution_count": 20,
   "id": "52326689-84a8-4b8f-a881-7c68780f62c9",
   "metadata": {},
   "outputs": [
    {
     "name": "stdout",
     "output_type": "stream",
     "text": [
      "Empty DataFrame\n",
      "Columns: [order_id, product_id, add_to_cart_order, reordered]\n",
      "Index: []\n"
     ]
    }
   ],
   "source": [
    "# Check for fullly duplicate rows\n",
    "duplicated_orders = order_products[order_products.duplicated(keep=False)]\n",
    "print(duplicated_orders)"
   ]
  },
  {
   "cell_type": "code",
   "execution_count": 21,
   "id": "7b861391",
   "metadata": {},
   "outputs": [
    {
     "name": "stdout",
     "output_type": "stream",
     "text": [
      "Empty DataFrame\n",
      "Columns: [order_id, product_id, add_to_cart_order, reordered]\n",
      "Index: []\n"
     ]
    }
   ],
   "source": [
    "# Double check for any other tricky duplicates\n",
    "tricky_duplicates = order_products[order_products.duplicated(subset=['order_id', 'product_id'], keep=False)]\n",
    "print(tricky_duplicates)"
   ]
  },
  {
   "cell_type": "markdown",
   "id": "0b890492",
   "metadata": {},
   "source": [
    "The result indicates that no duplicates were found in the Order Products DataFrame and under the  'order_id', 'product_id' column of this DataFrame.  "
   ]
  },
  {
   "cell_type": "markdown",
   "id": "1e46de76",
   "metadata": {},
   "source": [
    "## Find and remove missing values\n"
   ]
  },
  {
   "cell_type": "markdown",
   "id": "c0aebd78",
   "metadata": {},
   "source": [
    "### `products` data frame"
   ]
  },
  {
   "cell_type": "code",
   "execution_count": 22,
   "id": "fe4a8b0f",
   "metadata": {},
   "outputs": [
    {
     "name": "stdout",
     "output_type": "stream",
     "text": [
      "\n",
      "Missing Values in Products:\n",
      "product_id               0\n",
      "product_name          1258\n",
      "aisle_id                 0\n",
      "department_id            0\n",
      "product_name_lower    1258\n",
      "dtype: int64\n"
     ]
    }
   ],
   "source": [
    "print(\"\\nMissing Values in Products:\")\n",
    "missing_values_products = products.isnull().sum()\n",
    "print(missing_values_products)"
   ]
  },
  {
   "cell_type": "code",
   "execution_count": 23,
   "id": "e96167bc",
   "metadata": {},
   "outputs": [
    {
     "name": "stdout",
     "output_type": "stream",
     "text": [
      "All missing product names are associated with aisle ID 100\n"
     ]
    }
   ],
   "source": [
    "# Are all of the missing product names associated with aisle ID 100?\n",
    "missing_product_names = products[products['product_name'].isnull()]\n",
    "missing_product_names_with_aisle_100 = missing_product_names[missing_product_names['aisle_id'] == 100]\n",
    "\n",
    "if missing_product_names_with_aisle_100.shape[0] == missing_product_names.shape[0]:\n",
    "    print(\"All missing product names are associated with aisle ID 100\")\n",
    "else:\n",
    "    print(\"Not all missing product names are associated with aisle ID 100\")"
   ]
  },
  {
   "cell_type": "code",
   "execution_count": 24,
   "id": "8fd0a541",
   "metadata": {},
   "outputs": [
    {
     "name": "stdout",
     "output_type": "stream",
     "text": [
      "All missing product names are associated with department ID 21\n"
     ]
    }
   ],
   "source": [
    "# Are all of the missing product names associated with department ID 21?\n",
    "missing_product_names = products[products['product_name'].isnull()]\n",
    "missing_product_names_with_department_21 = missing_product_names[missing_product_names['department_id'] == 21]\n",
    "\n",
    "if missing_product_names_with_department_21.shape[0] == missing_product_names.shape[0]:\n",
    "    print(\"All missing product names are associated with department ID 21\")\n",
    "else:\n",
    "    print(\"Not all missing product names are associated with department ID 21\")"
   ]
  },
  {
   "cell_type": "code",
   "execution_count": 25,
   "id": "325c3464",
   "metadata": {},
   "outputs": [
    {
     "name": "stdout",
     "output_type": "stream",
     "text": [
      "Unique Aisles:\n",
      "     aisle_id\n",
      "208         1\n",
      "97          2\n",
      "24          3\n",
      "125         4\n",
      "4           5\n",
      "..        ...\n",
      "67        130\n",
      "32        131\n",
      "150       132\n",
      "454       133\n",
      "51        134\n",
      "\n",
      "[134 rows x 1 columns]\n",
      "\n",
      "Unique Departments:\n",
      "     department_id\n",
      "3                1\n",
      "85               2\n",
      "57               3\n",
      "30               4\n",
      "51               5\n",
      "46               6\n",
      "2                7\n",
      "20               8\n",
      "18               9\n",
      "502             10\n",
      "5               11\n",
      "16              12\n",
      "1               13\n",
      "27              14\n",
      "28              15\n",
      "8               16\n",
      "13              17\n",
      "14              18\n",
      "0               19\n",
      "48              20\n",
      "37              21\n"
     ]
    }
   ],
   "source": [
    "# What is this ailse and department?\n",
    "\n",
    "# Get unique aisles and their IDs\n",
    "unique_aisles = products[['aisle_id']].drop_duplicates().sort_values('aisle_id')\n",
    "print(\"Unique Aisles:\")\n",
    "print(unique_aisles)\n",
    "\n",
    "# Get unique departments and their IDs\n",
    "unique_departments = products[['department_id']].drop_duplicates().sort_values('department_id')\n",
    "print(\"\\nUnique Departments:\")\n",
    "print(unique_departments)"
   ]
  },
  {
   "cell_type": "code",
   "execution_count": 26,
   "id": "6b295120",
   "metadata": {},
   "outputs": [
    {
     "name": "stdout",
     "output_type": "stream",
     "text": [
      "None\n"
     ]
    }
   ],
   "source": [
    "# Fill missing product names with 'Unknown'\n",
    "missing_products = products['product_name'].fillna('Unknown', inplace=True)\n",
    "print(missing_products)"
   ]
  },
  {
   "cell_type": "markdown",
   "id": "fc70e5ad",
   "metadata": {},
   "source": [
    "Under the Products DataFrame there are some missing values in this dataset under the columns 'product_name' and 'product_name _lowercase' (based on pervious analysis we are aware of this issue). All the missing product names and correspond to 'aisle_id' 100, furthermore, all missing product names are related to 'department_id' 21. Displaying unique combinations of 'aisle_id' and 'department_id' aids in understanding the structure and diversity of the categorical variables in the Products DataFrame. "
   ]
  },
  {
   "cell_type": "markdown",
   "id": "7eb45c86",
   "metadata": {},
   "source": [
    "### `orders` data frame"
   ]
  },
  {
   "cell_type": "code",
   "execution_count": 27,
   "id": "93e41d96",
   "metadata": {},
   "outputs": [
    {
     "name": "stdout",
     "output_type": "stream",
     "text": [
      "Missing Values in Orders:\n",
      "order_id                      0\n",
      "user_id                       0\n",
      "order_number                  0\n",
      "order_dow                     0\n",
      "order_hour_of_day             0\n",
      "days_since_prior_order    28817\n",
      "dtype: int64\n"
     ]
    }
   ],
   "source": [
    "print(\"Missing Values in Orders:\")\n",
    "missing_values_orders = orders.isnull().sum()\n",
    "print(missing_values_orders)"
   ]
  },
  {
   "cell_type": "markdown",
   "id": "b05e6ef4",
   "metadata": {},
   "source": [
    "It highlights that the 'days_since_prior_order' column contains a considerable number of missing values that might need further investigation or handling to avoid potential issues in subsequent analyses or modeling."
   ]
  },
  {
   "cell_type": "code",
   "execution_count": 28,
   "id": "166e5a86",
   "metadata": {},
   "outputs": [
    {
     "name": "stdout",
     "output_type": "stream",
     "text": [
      "Missing values in orders that are not the first orders:\n",
      "order_id                  0\n",
      "user_id                   0\n",
      "order_number              0\n",
      "order_dow                 0\n",
      "order_hour_of_day         0\n",
      "days_since_prior_order    0\n",
      "dtype: int64\n"
     ]
    }
   ],
   "source": [
    "# Are there any missing values where it's not a customer's first order?\n",
    "# Exclude the first orders for each user\n",
    "not_first_orders = orders[orders['order_number'] > 1]\n",
    "\n",
    "# Check for missing values in the not_first_orders DataFrame\n",
    "missing_values_not_first_orders = not_first_orders.isnull().sum()\n",
    "print(\"Missing values in orders that are not the first orders:\")\n",
    "print(missing_values_not_first_orders)"
   ]
  },
  {
   "cell_type": "markdown",
   "id": "4e23d089",
   "metadata": {},
   "source": [
    "Filtering out the first orders for each user, there are no missing values present in the remaining orders within the dataset."
   ]
  },
  {
   "cell_type": "markdown",
   "id": "6a86f72e",
   "metadata": {},
   "source": [
    "By distinguishing and examining missing values in the 'orders' DataFrame specifically for orders that are not the first ones for each user, it aims to evaluate if there are any patterns or significant differences in missing values based on the order sequence, potentially aiding in data quality assessment or specific handling of missing data for subsequent analyses."
   ]
  },
  {
   "cell_type": "markdown",
   "id": "69dc9ca4",
   "metadata": {},
   "source": [
    "### `order_products` data frame"
   ]
  },
  {
   "cell_type": "code",
   "execution_count": 29,
   "id": "b8240253",
   "metadata": {},
   "outputs": [
    {
     "name": "stdout",
     "output_type": "stream",
     "text": [
      "\n",
      "Missing in Order Products:\n",
      "order_id             0\n",
      "product_id           0\n",
      "add_to_cart_order    0\n",
      "reordered            0\n",
      "dtype: int64\n"
     ]
    }
   ],
   "source": [
    "print(\"\\nMissing in Order Products:\")\n",
    "missing_values_order_products = order_products.isnull().sum()\n",
    "print(missing_values_order_products)"
   ]
  },
  {
   "cell_type": "code",
   "execution_count": 30,
   "id": "9a78e5ee",
   "metadata": {},
   "outputs": [
    {
     "name": "stdout",
     "output_type": "stream",
     "text": [
      "Min value: 0\n",
      "Max value: 64\n"
     ]
    }
   ],
   "source": [
    "# What are the min and max values in this column?\n",
    "min_value = order_products['add_to_cart_order'].min()\n",
    "max_value = order_products['add_to_cart_order'].max()\n",
    "print(\"Min value:\", min_value)\n",
    "print(\"Max value:\", max_value)"
   ]
  },
  {
   "cell_type": "code",
   "execution_count": 31,
   "id": "ab9d0c2b",
   "metadata": {},
   "outputs": [
    {
     "name": "stdout",
     "output_type": "stream",
     "text": [
      "Order IDs with at least one missing value in 'add_to_cart_order': []\n"
     ]
    }
   ],
   "source": [
    "# Save all order IDs with at least one missing value in 'add_to_cart_order'\n",
    "orders_with_missing_values = order_products[order_products['add_to_cart_order'].isnull()]['order_id'].unique()\n",
    "print(\"Order IDs with at least one missing value in 'add_to_cart_order':\", orders_with_missing_values)"
   ]
  },
  {
   "cell_type": "code",
   "execution_count": 32,
   "id": "54c31695",
   "metadata": {},
   "outputs": [
    {
     "name": "stdout",
     "output_type": "stream",
     "text": [
      "Do orders with missing values have more than 64 products? False\n"
     ]
    }
   ],
   "source": [
    "# Do all orders with missing values have more than 64 products?\n",
    "orders_missing_values_64_products = order_products[(order_products['add_to_cart_order'].isnull()) & (order_products['product_id'] > 64)]\n",
    "print(\"Do orders with missing values have more than 64 products?\", not orders_missing_values_64_products.empty)"
   ]
  },
  {
   "cell_type": "code",
   "execution_count": 33,
   "id": "7a987d08",
   "metadata": {},
   "outputs": [],
   "source": [
    "# Replace missing values with 999 and convert column to integer type\n",
    "order_products['add_to_cart_order'].fillna(999, inplace=True)\n",
    "order_products['add_to_cart_order'] = order_products['add_to_cart_order'].astype(int)"
   ]
  },
  {
   "cell_type": "markdown",
   "id": "fea4bcc7",
   "metadata": {},
   "source": [
    "The analysis indicates that there are no missing values in the 'order_products' DataFrame, specifically in the 'add_to_cart_order' column. Additionally, there are no order IDs with missing values, and there are no orders with both missing values and more than 64 products."
   ]
  },
  {
   "cell_type": "markdown",
   "id": "turkish-kidney",
   "metadata": {},
   "source": [
    "# [A] Easy (must complete all to pass)"
   ]
  },
  {
   "cell_type": "markdown",
   "id": "short-capability",
   "metadata": {},
   "source": [
    "### [A1] Verify that the `'order_hour_of_day'` and `'order_dow'` values in the `orders` tables are sensible (i.e. `'order_hour_of_day'` ranges from 0 to 23 and `'order_dow'` ranges from 0 to 6)"
   ]
  },
  {
   "cell_type": "code",
   "execution_count": 34,
   "id": "growing-fruit",
   "metadata": {},
   "outputs": [],
   "source": [
    "# Verify 'order_hour_of_day' ranges from 0 to 23\n",
    "hour_of_day_valid = orders['order_hour_of_day'].between(0, 23).all()"
   ]
  },
  {
   "cell_type": "code",
   "execution_count": 35,
   "id": "accessory-malaysia",
   "metadata": {},
   "outputs": [
    {
     "name": "stdout",
     "output_type": "stream",
     "text": [
      "All 'order_hour_of_day' values are between 0 and 23.\n",
      "All 'order_dow' values are between 0 and 6.\n"
     ]
    }
   ],
   "source": [
    "# Verify 'order_dow' ranges from 0 to 6\n",
    "day_of_week_valid = orders['order_dow'].between(0, 6).all()\n",
    "\n",
    "if hour_of_day_valid and day_of_week_valid:\n",
    "    print(\"All 'order_hour_of_day' values are between 0 and 23.\")\n",
    "    print(\"All 'order_dow' values are between 0 and 6.\")\n",
    "else:\n",
    "    print(\"Some 'order_hour_of_day' or 'order_dow' values are outside the valid range.\")"
   ]
  },
  {
   "cell_type": "markdown",
   "id": "c8c6537c",
   "metadata": {},
   "source": [
    "The output confirms that all the 'order_hour_of_day' and 'order_dow' values fall within their respective valid ranges, ensuring consistency and correctness in the data."
   ]
  },
  {
   "cell_type": "markdown",
   "id": "a6743a70",
   "metadata": {},
   "source": [
    "### [A2] What time of day do people shop for groceries?"
   ]
  },
  {
   "cell_type": "code",
   "execution_count": 36,
   "id": "a36cca27",
   "metadata": {},
   "outputs": [
    {
     "data": {
      "image/png": "[encoded data removed]",
      "text/plain": [
       "<Figure size 720x432 with 1 Axes>"
      ]
     },
     "metadata": {
      "needs_background": "light"
     },
     "output_type": "display_data"
    }
   ],
   "source": [
    "#Grouping orders by 'order_hour_of_day' and counting the occurrences\n",
    "hourly_order_count = orders['order_hour_of_day'].value_counts().sort_index()\n",
    "\n",
    "# Plotting the distribution of orders across hours of the day\n",
    "plt.figure(figsize=(10, 6))\n",
    "hourly_order_count.plot(kind='bar', color='red')\n",
    "plt.title('Order Distribution Across Hours of the Day')\n",
    "plt.xlabel('Hour of the Day')\n",
    "plt.ylabel('Number of Orders')\n",
    "plt.xticks(rotation=0)\n",
    "plt.grid(axis='y')\n",
    "plt.show()"
   ]
  },
  {
   "cell_type": "markdown",
   "id": "11270eed",
   "metadata": {},
   "source": [
    "Based on the bar plot showing the distribution of orders across hours of the day, it seems that the peak hours for ordering fall approximately between 9 AM to 6 PM. During this period, there's a relatively higher frequency of orders compared to other hours, indicating increased activity or more orders being placed during this time frame. While 6PM to 8AM the the activity falls below 25000. "
   ]
  },
  {
   "cell_type": "markdown",
   "id": "documented-command",
   "metadata": {},
   "source": [
    "### [A3] What day of the week do people shop for groceries?"
   ]
  },
  {
   "cell_type": "code",
   "execution_count": 37,
   "id": "chief-digit",
   "metadata": {},
   "outputs": [
    {
     "data": {
      "image/png": "[encoded data removed]",
      "text/plain": [
       "<Figure size 576x432 with 1 Axes>"
      ]
     },
     "metadata": {
      "needs_background": "light"
     },
     "output_type": "display_data"
    }
   ],
   "source": [
    "# Grouping orders by 'order_dow' (day of the week) and counting the occurrences\n",
    "daily_order_count = orders['order_dow'].value_counts().sort_index()\n",
    "\n",
    "# Plotting the distribution of orders across days of the week\n",
    "plt.figure(figsize=(8, 6))\n",
    "daily_order_count.plot(kind='bar', color='salmon')\n",
    "plt.title('Order Distribution Across Days of the Week')\n",
    "plt.xlabel('Day of the Week (0=Sunday, 1=Monday, ..., 6=Saturday)')\n",
    "plt.ylabel('Number of Orders')\n",
    "plt.xticks(rotation=0)\n",
    "plt.grid(axis='y')\n",
    "plt.show()"
   ]
  },
  {
   "cell_type": "markdown",
   "id": "dominant-lightning",
   "metadata": {},
   "source": [
    "The result of this bar plot indicates that the popular day for users to place orders is between Sunday and Monday. While the rest of the week falls below 70000 orders, especially on Thursday since it falls under 60000 orders. "
   ]
  },
  {
   "cell_type": "markdown",
   "id": "cutting-concert",
   "metadata": {},
   "source": [
    "### [A4] How long do people wait until placing another order?"
   ]
  },
  {
   "cell_type": "code",
   "execution_count": 38,
   "id": "c231f523",
   "metadata": {},
   "outputs": [],
   "source": [
    "# Filter out the missing values in 'days_since_prior_order' and group by the number of days\n",
    "valid_days_since_prior_order = orders['days_since_prior_order'].dropna()\n",
    "order_frequency = valid_days_since_prior_order.value_counts().sort_index()"
   ]
  },
  {
   "cell_type": "markdown",
   "id": "discrete-vertex",
   "metadata": {},
   "source": [
    "the code above repares data to show the frequency of orders based on the number of days that have passed since the previous order."
   ]
  },
  {
   "cell_type": "code",
   "execution_count": 39,
   "id": "exciting-fantasy",
   "metadata": {},
   "outputs": [
    {
     "data": {
      "image/png": "[encoded data removed]",
      "text/plain": [
       "<Figure size 720x432 with 1 Axes>"
      ]
     },
     "metadata": {
      "needs_background": "light"
     },
     "output_type": "display_data"
    }
   ],
   "source": [
    "# Plotting the frequency of days since prior orders\n",
    "plt.figure(figsize=(10, 6))\n",
    "order_frequency.plot(kind='bar', color='skyblue')\n",
    "plt.title('Frequency of Days Since Prior Orders')\n",
    "plt.xlabel('Days Since Prior Order')\n",
    "plt.ylabel('Frequency')\n",
    "plt.xticks(rotation=45)\n",
    "plt.grid(axis='y')\n",
    "plt.show()"
   ]
  },
  {
   "cell_type": "markdown",
   "id": "8d926614",
   "metadata": {},
   "source": [
    "The result of this bar plot indicates that the peak of users orders are the last day of the month or the 30th day and the first 4 to 7 days of the month increases in movements. However, towards the middle of the month there is barley any orders. "
   ]
  },
  {
   "cell_type": "markdown",
   "id": "tight-staff",
   "metadata": {},
   "source": [
    "# [B] Medium (must complete all to pass)"
   ]
  },
  {
   "cell_type": "markdown",
   "id": "packed-classic",
   "metadata": {},
   "source": [
    "### [B1] Is there a difference in `'order_hour_of_day'` distributions on Wednesdays and Saturdays? Plot the histograms for both days and describe the differences that you see."
   ]
  },
  {
   "cell_type": "code",
   "execution_count": 40,
   "id": "d89b8403",
   "metadata": {},
   "outputs": [],
   "source": [
    "# Filter orders for Wednesdays and Saturdays\n",
    "wednesday_orders = orders[orders['order_dow'] == 3]  # Wednesday has a code of 3 in 'order_dow'\n",
    "saturday_orders = orders[orders['order_dow'] == 6]   # Saturday has a code of 6 in 'order_dow'"
   ]
  },
  {
   "cell_type": "code",
   "execution_count": 41,
   "id": "94e54e8a",
   "metadata": {},
   "outputs": [
    {
     "data": {
      "text/plain": [
       "Text(0, 0.5, 'Frequency')"
      ]
     },
     "execution_count": 41,
     "metadata": {},
     "output_type": "execute_result"
    },
    {
     "data": {
      "image/png": "[encoded data removed]",
      "text/plain": [
       "<Figure size 864x432 with 1 Axes>"
      ]
     },
     "metadata": {
      "needs_background": "light"
     },
     "output_type": "display_data"
    }
   ],
   "source": [
    "# Plot histograms for 'order_hour_of_day' on Wednesday and Saturday\n",
    "plt.figure(figsize=(12, 6))\n",
    "\n",
    "plt.subplot(1, 2, 1)\n",
    "plt.hist(wednesday_orders['order_hour_of_day'], bins=24, color='skyblue', edgecolor='black')\n",
    "plt.title('Order Hour Distribution - Wednesday')\n",
    "plt.xlabel('Hour of Day')\n",
    "plt.ylabel('Frequency')"
   ]
  },
  {
   "cell_type": "markdown",
   "id": "e1a9b57f",
   "metadata": {},
   "source": [
    "The histogram shows that on Wednesday the popular time that users place order is during the hours of 10am, 11am, 3PM, and 4PM. However, during the hours of 12AM to 6AM there is barley any orders. "
   ]
  },
  {
   "cell_type": "code",
   "execution_count": 42,
   "id": "797c90a8",
   "metadata": {},
   "outputs": [
    {
     "data": {
      "image/png": "[encoded data removed]",
      "text/plain": [
       "<Figure size 432x288 with 1 Axes>"
      ]
     },
     "metadata": {
      "needs_background": "light"
     },
     "output_type": "display_data"
    }
   ],
   "source": [
    "plt.subplot(1, 2, 2)\n",
    "plt.hist(saturday_orders['order_hour_of_day'], bins=24, color='salmon', edgecolor='black')\n",
    "plt.title('Order Hour Distribution - Saturday')\n",
    "plt.xlabel('Hour of Day')\n",
    "plt.ylabel('Frequency')\n",
    "plt.tight_layout()\n",
    "plt.show()"
   ]
  },
  {
   "cell_type": "markdown",
   "id": "fc54358f",
   "metadata": {},
   "source": [
    "The histogram shows that on Saturday the peak hours begin from 9 am to 3PM. However, just like Wednesday during the hours of 12AM to 6AM there is barley any orders. "
   ]
  },
  {
   "cell_type": "markdown",
   "id": "e3891143",
   "metadata": {},
   "source": [
    "### [B2] What's the distribution for the number of orders per customer?"
   ]
  },
  {
   "cell_type": "code",
   "execution_count": 43,
   "id": "d8c26c23",
   "metadata": {},
   "outputs": [],
   "source": [
    "# Group orders by user_id and count the number of unique orders for each user\n",
    "orders_per_user = orders.groupby('user_id')['order_id'].nunique()"
   ]
  },
  {
   "cell_type": "code",
   "execution_count": 44,
   "id": "00e69a66",
   "metadata": {},
   "outputs": [
    {
     "data": {
      "image/png": "[encoded data removed]",
      "text/plain": [
       "<Figure size 720x432 with 1 Axes>"
      ]
     },
     "metadata": {
      "needs_background": "light"
     },
     "output_type": "display_data"
    }
   ],
   "source": [
    "# Plot histogram for the distribution of orders per customer\n",
    "plt.figure(figsize=(10, 6))\n",
    "plt.hist(orders_per_user, bins=50, color='skyblue', edgecolor='black')\n",
    "plt.title('Distribution of Orders per Customer')\n",
    "plt.xlabel('Number of Orders')\n",
    "plt.ylabel('Frequency')\n",
    "plt.show()"
   ]
  },
  {
   "cell_type": "markdown",
   "id": "d2eff7d5",
   "metadata": {},
   "source": [
    "Based on the histagram graph it seems customers tend to order only 1 to 2 times. Even then the number of customer who order 2 times goes down by 20,000 users. "
   ]
  },
  {
   "cell_type": "markdown",
   "id": "54a0319c",
   "metadata": {},
   "source": [
    "### [B3] What are the top 20 popular products (display their id and name)?"
   ]
  },
  {
   "cell_type": "code",
   "execution_count": 45,
   "id": "exterior-arizona",
   "metadata": {
    "scrolled": true
   },
   "outputs": [],
   "source": [
    "# Merge order_products and products DataFrames to get product names\n",
    "merged_df = order_products.merge(products, on='product_id')"
   ]
  },
  {
   "cell_type": "code",
   "execution_count": 46,
   "id": "universal-facial",
   "metadata": {},
   "outputs": [],
   "source": [
    "# Calculate the count of each product by grouping and counting orders\n",
    "product_counts = merged_df['product_name'].value_counts().reset_index()\n",
    "product_counts.columns = ['product_name', 'order_count']"
   ]
  },
  {
   "cell_type": "code",
   "execution_count": 47,
   "id": "bbcdd20b",
   "metadata": {},
   "outputs": [
    {
     "name": "stdout",
     "output_type": "stream",
     "text": [
      "                product_name  order_count\n",
      "0                     Banana        66050\n",
      "1     Bag of Organic Bananas        53297\n",
      "2       Organic Strawberries        37039\n",
      "3       Organic Baby Spinach        33971\n",
      "4       Organic Hass Avocado        29773\n",
      "5            Organic Avocado        24689\n",
      "6                Large Lemon        21495\n",
      "7               Strawberries        20018\n",
      "8                      Limes        19690\n",
      "9         Organic Whole Milk        19600\n",
      "10       Organic Raspberries        19197\n",
      "11      Organic Yellow Onion        15898\n",
      "12            Organic Garlic        15292\n",
      "13          Organic Zucchini        14584\n",
      "14       Organic Blueberries        13879\n",
      "15            Cucumber Kirby        13675\n",
      "16        Organic Fuji Apple        12544\n",
      "17             Organic Lemon        12232\n",
      "18  Apple Honeycrisp Organic        11993\n",
      "19    Organic Grape Tomatoes        11781\n"
     ]
    }
   ],
   "source": [
    "# Sort products by order count in descending order and get the top 20\n",
    "top_20_products = product_counts.head(20)\n",
    "# Display the top 20 popular products (id and name)\n",
    "print(top_20_products)"
   ]
  },
  {
   "cell_type": "markdown",
   "id": "7df00f47",
   "metadata": {},
   "source": [
    "The result shows a list of the top 20 popular products along with the number of times each product has been ordered. This list is sorted in descending order based on the count of orders for each product. Banana is the most frequently ordered product, with a count of 66,050 orders, followed by 'Bag of Organic Bananas' with 53,297 orders, and so on down to the 20th most popular product, 'Organic Grape Tomatoes,' with 11,781 orders."
   ]
  },
  {
   "cell_type": "markdown",
   "id": "gross-theme",
   "metadata": {},
   "source": [
    "# [C] Hard (must complete at least two to pass)"
   ]
  },
  {
   "cell_type": "markdown",
   "id": "5e6b5537",
   "metadata": {},
   "source": [
    "### [C2] What are the top 20 items that are reordered most frequently (display their names and product IDs)?"
   ]
  },
  {
   "cell_type": "code",
   "execution_count": 48,
   "id": "9374e55a",
   "metadata": {},
   "outputs": [],
   "source": [
    "# Group by product_id, calculate the total count of reorders, and sort the values\n",
    "reordered_products = order_products.groupby('product_id')['reordered'].sum().reset_index()"
   ]
  },
  {
   "cell_type": "code",
   "execution_count": 49,
   "id": "possible-change",
   "metadata": {
    "scrolled": true
   },
   "outputs": [],
   "source": [
    "# Merges the aggregated data with the products DataFrame to get the product names.\n",
    "reordered_products = reordered_products.merge(products[['product_id', 'product_name']], on='product_id')"
   ]
  },
  {
   "cell_type": "code",
   "execution_count": 50,
   "id": "professional-surfing",
   "metadata": {
    "scrolled": true
   },
   "outputs": [],
   "source": [
    "# Sorts the products based on the reorder count in descending order and selects the top 20 items.\n",
    "reordered_products = reordered_products.sort_values(by='reordered', ascending=False).head(20)"
   ]
  },
  {
   "cell_type": "code",
   "execution_count": 51,
   "id": "48dd3658",
   "metadata": {},
   "outputs": [
    {
     "name": "stdout",
     "output_type": "stream",
     "text": [
      "       product_id              product_name  reordered\n",
      "22808       24852                    Banana      55763\n",
      "12025       13176    Bag of Organic Bananas      44450\n",
      "19370       21137      Organic Strawberries      28639\n",
      "20077       21903      Organic Baby Spinach      26233\n",
      "43271       47209      Organic Hass Avocado      23629\n",
      "43788       47766           Organic Avocado      18743\n",
      "25556       27845        Organic Whole Milk      16251\n",
      "43663       47626               Large Lemon      15044\n",
      "25666       27966       Organic Raspberries      14748\n",
      "15364       16797              Strawberries      13945\n",
      "24047       26209                     Limes      13327\n",
      "21025       22935      Organic Yellow Onion      11145\n",
      "22908       24964            Organic Garlic      10411\n",
      "41244       45007          Organic Zucchini      10076\n",
      "45561       49683            Cucumber Kirby       9538\n",
      "25889       28204        Organic Fuji Apple       8989\n",
      "7543         8277  Apple Honeycrisp Organic       8836\n",
      "35996       39275       Organic Blueberries       8799\n",
      "5375         5876             Organic Lemon       8412\n",
      "45155       49235       Organic Half & Half       8389\n"
     ]
    }
   ],
   "source": [
    "print(reordered_products[['product_id', 'product_name', 'reordered']])"
   ]
  },
  {
   "cell_type": "markdown",
   "id": "80e70c74",
   "metadata": {},
   "source": [
    "The result shows a list of products alongside their IDs , names, and the count of times they have been reordered. Each row represents a product, with 'Banana' having the highest number of reorders at 55,763, followed by 'Bag of Organic Bananas' with 44,450 reorders, and so forth. This list is sorted based on the count of reorders for each product, displaying the top products that customers tend to reorder the most."
   ]
  },
  {
   "cell_type": "markdown",
   "id": "9d312b14",
   "metadata": {},
   "source": [
    "### [C3] For each product, what proportion of its orders are reorders?"
   ]
  },
  {
   "cell_type": "code",
   "execution_count": 52,
   "id": "8ae9f4b1",
   "metadata": {},
   "outputs": [],
   "source": [
    "# Calculate total orders for each product\n",
    "total_orders = order_products.groupby('product_id')['reordered'].count().reset_index()\n",
    "total_orders.columns = ['product_id', 'total_orders']\n",
    "\n",
    "# Calculate total reorders for each product\n",
    "total_reorders = order_products.groupby('product_id')['reordered'].sum().reset_index()\n",
    "total_reorders.columns = ['product_id', 'total_reorders']"
   ]
  },
  {
   "cell_type": "code",
   "execution_count": 53,
   "id": "103e7fe1",
   "metadata": {},
   "outputs": [],
   "source": [
    "# Merge total orders and total reorders data\n",
    "order_reorder_ratio = total_orders.merge(total_reorders, on='product_id')"
   ]
  },
  {
   "cell_type": "code",
   "execution_count": 54,
   "id": "social-individual",
   "metadata": {},
   "outputs": [
    {
     "name": "stdout",
     "output_type": "stream",
     "text": [
      "       product_id                                       product_name  \\\n",
      "0               1                         Chocolate Sandwich Cookies   \n",
      "1               2                                   All-Seasons Salt   \n",
      "2               3               Robust Golden Unsweetened Oolong Tea   \n",
      "3               4  Smart Ones Classic Favorites Mini Rigatoni Wit...   \n",
      "4               7                     Pure Coconut Water With Orange   \n",
      "...           ...                                                ...   \n",
      "45568       49690                      HIGH PERFORMANCE ENERGY DRINK   \n",
      "45569       49691                      ORIGINAL PANCAKE & WAFFLE MIX   \n",
      "45570       49692    ORGANIC INSTANT OATMEAL LIGHT MAPLE BROWN SUGAR   \n",
      "45571       49693                             SPRING WATER BODY WASH   \n",
      "45572       49694                            BURRITO- STEAK & CHEESE   \n",
      "\n",
      "       reorder_proportion  \n",
      "0                0.564286  \n",
      "1                0.000000  \n",
      "2                0.738095  \n",
      "3                0.510204  \n",
      "4                0.500000  \n",
      "...                   ...  \n",
      "45568            0.800000  \n",
      "45569            0.430556  \n",
      "45570            0.416667  \n",
      "45571            0.440000  \n",
      "45572            0.333333  \n",
      "\n",
      "[45573 rows x 3 columns]\n"
     ]
    }
   ],
   "source": [
    "# Calculate the proportion of reorders for each product\n",
    "order_reorder_ratio['reorder_proportion'] = order_reorder_ratio['total_reorders'] / order_reorder_ratio['total_orders']\n",
    "order_reorder_ratio = order_reorder_ratio.merge(products[['product_id', 'product_name']], on='product_id')\n",
    "\n",
    "print(order_reorder_ratio[['product_id', 'product_name', 'reorder_proportion']])"
   ]
  },
  {
   "cell_type": "markdown",
   "id": "e2e8d5f1",
   "metadata": {},
   "source": [
    "The result display a DataFrame with columns for product_id, product_name, and reorder_proportion. Each row represents a product, indicating its ID and name alongside the proportion of times it has been reordered. This metric provides insights into how frequently each product gets reordered compared to its total orders. As an example, the first product 'Chocolate Sandwich Cookies' has a reorder proportion of approximately 0.56, indicating that it gets reordered about 56% of the time it's ordered. This pattern continues for the rest of the products listed in the DataFrame. \n"
   ]
  },
  {
   "cell_type": "code",
   "execution_count": 60,
   "id": "c28085d0",
   "metadata": {},
   "outputs": [
    {
     "data": {
      "text/html": [
       "<style type=\"text/css\">\n",
       "</style>\n",
       "<table id=\"T_2060b_\">\n",
       "  <thead>\n",
       "    <tr>\n",
       "      <th class=\"blank\" >&nbsp;</th>\n",
       "      <th class=\"blank level0\" >&nbsp;</th>\n",
       "      <th class=\"col_heading level0 col0\" >reordered</th>\n",
       "    </tr>\n",
       "    <tr>\n",
       "      <th class=\"index_name level0\" >product_id</th>\n",
       "      <th class=\"index_name level1\" >product_name</th>\n",
       "      <th class=\"blank col0\" >&nbsp;</th>\n",
       "    </tr>\n",
       "  </thead>\n",
       "  <tbody>\n",
       "    <tr>\n",
       "      <th id=\"T_2060b_level0_row0\" class=\"row_heading level0 row0\" >1</th>\n",
       "      <th id=\"T_2060b_level1_row0\" class=\"row_heading level1 row0\" >Chocolate Sandwich Cookies</th>\n",
       "      <td id=\"T_2060b_row0_col0\" class=\"data row0 col0\" >56.4%</td>\n",
       "    </tr>\n",
       "    <tr>\n",
       "      <th id=\"T_2060b_level0_row1\" class=\"row_heading level0 row1\" >2</th>\n",
       "      <th id=\"T_2060b_level1_row1\" class=\"row_heading level1 row1\" >All-Seasons Salt</th>\n",
       "      <td id=\"T_2060b_row1_col0\" class=\"data row1 col0\" >0.0%</td>\n",
       "    </tr>\n",
       "    <tr>\n",
       "      <th id=\"T_2060b_level0_row2\" class=\"row_heading level0 row2\" >3</th>\n",
       "      <th id=\"T_2060b_level1_row2\" class=\"row_heading level1 row2\" >Robust Golden Unsweetened Oolong Tea</th>\n",
       "      <td id=\"T_2060b_row2_col0\" class=\"data row2 col0\" >73.8%</td>\n",
       "    </tr>\n",
       "    <tr>\n",
       "      <th id=\"T_2060b_level0_row3\" class=\"row_heading level0 row3\" >4</th>\n",
       "      <th id=\"T_2060b_level1_row3\" class=\"row_heading level1 row3\" >Smart Ones Classic Favorites Mini Rigatoni With Vodka Cream Sauce</th>\n",
       "      <td id=\"T_2060b_row3_col0\" class=\"data row3 col0\" >51.0%</td>\n",
       "    </tr>\n",
       "    <tr>\n",
       "      <th id=\"T_2060b_level0_row4\" class=\"row_heading level0 row4\" >7</th>\n",
       "      <th id=\"T_2060b_level1_row4\" class=\"row_heading level1 row4\" >Pure Coconut Water With Orange</th>\n",
       "      <td id=\"T_2060b_row4_col0\" class=\"data row4 col0\" >50.0%</td>\n",
       "    </tr>\n",
       "    <tr>\n",
       "      <th id=\"T_2060b_level0_row5\" class=\"row_heading level0 row5\" >8</th>\n",
       "      <th id=\"T_2060b_level1_row5\" class=\"row_heading level1 row5\" >Cut Russet Potatoes Steam N' Mash</th>\n",
       "      <td id=\"T_2060b_row5_col0\" class=\"data row5 col0\" >31.6%</td>\n",
       "    </tr>\n",
       "    <tr>\n",
       "      <th id=\"T_2060b_level0_row6\" class=\"row_heading level0 row6\" >9</th>\n",
       "      <th id=\"T_2060b_level1_row6\" class=\"row_heading level1 row6\" >Light Strawberry Blueberry Yogurt</th>\n",
       "      <td id=\"T_2060b_row6_col0\" class=\"data row6 col0\" >76.2%</td>\n",
       "    </tr>\n",
       "    <tr>\n",
       "      <th id=\"T_2060b_level0_row7\" class=\"row_heading level0 row7\" >10</th>\n",
       "      <th id=\"T_2060b_level1_row7\" class=\"row_heading level1 row7\" >Sparkling Orange Juice & Prickly Pear Beverage</th>\n",
       "      <td id=\"T_2060b_row7_col0\" class=\"data row7 col0\" >44.8%</td>\n",
       "    </tr>\n",
       "    <tr>\n",
       "      <th id=\"T_2060b_level0_row8\" class=\"row_heading level0 row8\" >11</th>\n",
       "      <th id=\"T_2060b_level1_row8\" class=\"row_heading level1 row8\" >Peach Mango Juice</th>\n",
       "      <td id=\"T_2060b_row8_col0\" class=\"data row8 col0\" >62.5%</td>\n",
       "    </tr>\n",
       "    <tr>\n",
       "      <th id=\"T_2060b_level0_row9\" class=\"row_heading level0 row9\" >12</th>\n",
       "      <th id=\"T_2060b_level1_row9\" class=\"row_heading level1 row9\" >Chocolate Fudge Layer Cake</th>\n",
       "      <td id=\"T_2060b_row9_col0\" class=\"data row9 col0\" >39.0%</td>\n",
       "    </tr>\n",
       "    <tr>\n",
       "      <th id=\"T_2060b_level0_row10\" class=\"row_heading level0 row10\" >13</th>\n",
       "      <th id=\"T_2060b_level1_row10\" class=\"row_heading level1 row10\" >Saline Nasal Mist</th>\n",
       "      <td id=\"T_2060b_row10_col0\" class=\"data row10 col0\" >50.0%</td>\n",
       "    </tr>\n",
       "    <tr>\n",
       "      <th id=\"T_2060b_level0_row11\" class=\"row_heading level0 row11\" >14</th>\n",
       "      <th id=\"T_2060b_level1_row11\" class=\"row_heading level1 row11\" >Fresh Scent Dishwasher Cleaner</th>\n",
       "      <td id=\"T_2060b_row11_col0\" class=\"data row11 col0\" >0.0%</td>\n",
       "    </tr>\n",
       "    <tr>\n",
       "      <th id=\"T_2060b_level0_row12\" class=\"row_heading level0 row12\" >17</th>\n",
       "      <th id=\"T_2060b_level1_row12\" class=\"row_heading level1 row12\" >Rendered Duck Fat</th>\n",
       "      <td id=\"T_2060b_row12_col0\" class=\"data row12 col0\" >0.0%</td>\n",
       "    </tr>\n",
       "    <tr>\n",
       "      <th id=\"T_2060b_level0_row13\" class=\"row_heading level0 row13\" >18</th>\n",
       "      <th id=\"T_2060b_level1_row13\" class=\"row_heading level1 row13\" >Pizza for One Suprema  Frozen Pizza</th>\n",
       "      <td id=\"T_2060b_row13_col0\" class=\"data row13 col0\" >53.3%</td>\n",
       "    </tr>\n",
       "    <tr>\n",
       "      <th id=\"T_2060b_level0_row14\" class=\"row_heading level0 row14\" >19</th>\n",
       "      <th id=\"T_2060b_level1_row14\" class=\"row_heading level1 row14\" >Gluten Free Quinoa Three Cheese & Mushroom Blend</th>\n",
       "      <td id=\"T_2060b_row14_col0\" class=\"data row14 col0\" >0.0%</td>\n",
       "    </tr>\n",
       "    <tr>\n",
       "      <th id=\"T_2060b_level0_row15\" class=\"row_heading level0 row15\" >21</th>\n",
       "      <th id=\"T_2060b_level1_row15\" class=\"row_heading level1 row15\" >Small & Medium Dental Dog Treats</th>\n",
       "      <td id=\"T_2060b_row15_col0\" class=\"data row15 col0\" >0.0%</td>\n",
       "    </tr>\n",
       "    <tr>\n",
       "      <th id=\"T_2060b_level0_row16\" class=\"row_heading level0 row16\" >22</th>\n",
       "      <th id=\"T_2060b_level1_row16\" class=\"row_heading level1 row16\" >Fresh Breath Oral Rinse Mild Mint</th>\n",
       "      <td id=\"T_2060b_row16_col0\" class=\"data row16 col0\" >50.0%</td>\n",
       "    </tr>\n",
       "    <tr>\n",
       "      <th id=\"T_2060b_level0_row17\" class=\"row_heading level0 row17\" >23</th>\n",
       "      <th id=\"T_2060b_level1_row17\" class=\"row_heading level1 row17\" >Organic Turkey Burgers</th>\n",
       "      <td id=\"T_2060b_row17_col0\" class=\"data row17 col0\" >38.1%</td>\n",
       "    </tr>\n",
       "    <tr>\n",
       "      <th id=\"T_2060b_level0_row18\" class=\"row_heading level0 row18\" >24</th>\n",
       "      <th id=\"T_2060b_level1_row18\" class=\"row_heading level1 row18\" >Tri-Vi-Sol® Vitamins A-C-and D Supplement Drops for Infants</th>\n",
       "      <td id=\"T_2060b_row18_col0\" class=\"data row18 col0\" >0.0%</td>\n",
       "    </tr>\n",
       "    <tr>\n",
       "      <th id=\"T_2060b_level0_row19\" class=\"row_heading level0 row19\" >25</th>\n",
       "      <th id=\"T_2060b_level1_row19\" class=\"row_heading level1 row19\" >Salted Caramel Lean Protein & Fiber Bar</th>\n",
       "      <td id=\"T_2060b_row19_col0\" class=\"data row19 col0\" >67.5%</td>\n",
       "    </tr>\n",
       "  </tbody>\n",
       "</table>\n"
      ],
      "text/plain": [
       "<pandas.io.formats.style.Styler at 0x7f82f90fb610>"
      ]
     },
     "execution_count": 60,
     "metadata": {},
     "output_type": "execute_result"
    }
   ],
   "source": [
    "# Reading CSV Files\n",
    "df_order_products = pd.read_csv('datasets/order_products.csv', sep=';')\n",
    "df_products = pd.read_csv('datasets/products.csv', sep=';')\n",
    "\n",
    "#Merging DataFrames\n",
    "reorder_pct = df_order_products.merge(df_products)\n",
    "\n",
    "#Calculating Reorder Percentage\n",
    "reorder_pct = reorder_pct.groupby(['product_id', 'product_name'])['reordered'].mean().to_frame()\n",
    "\n",
    "#Displaying Results\n",
    "reorder_pct.head(20).style.format({'reordered': '{:.1%}'})"
   ]
  },
  {
   "cell_type": "markdown",
   "id": "4f88a288",
   "metadata": {},
   "source": [
    "# CONCLUSION\n",
    "\n",
    "The analysis of the grocery shopping dataset yields several key findings\n",
    "\n",
    "From the validity of time and day values,'order_hour_of_day' values range from 0 to 23, and 'order_dow' values range from 0 to 6, indicating that the data contains sensible values for the time of day and day of the week.\n",
    "\n",
    "The shopping time analysis, indicates that most people shop for groceries during the daytime hours, peaking around the late morning and early afternoon. Andd For the 'order_hour_of_day' distribution, there's a noticeable increase in orders during daytime hours, possibly indicating popular shopping times. Moreover, The shopping day analysis distribution of orders across days of the week shows a higher frequency of orders on certain days (e.g., Sunday, Monday, and Tuesday) compared to others, indicating shopping tendencies on these days.\n",
    "\n",
    "The frequency of reordering, Customers typically wait for around 7 days before placing another order, as indicated by the frequency distribution of days since prior orders. Comparison of shopping hours on Wednesdays and Saturdays suggest that there's a clear difference in shopping hours between Wednesdays and Saturdays. On Saturdays, people tend to shop more in the early morning hours compared to Wednesdays, where shopping peaks later in the morning.\n",
    "\n",
    "The distribution of orders per customer varies, with some customers placing significantly more orders compared to others. While the top 20 popular products and the top 20 most frequently reordered items provide insight into the products that are in high demand or are frequently repurchased by customers. Each product's reorder proportion indicates the ratio of reorders to total orders for that product. This metric helps identify products that are frequently reordered compared to their total sales.\n",
    "\n",
    "Overall, shopping behavior varies throughout the week, with distinct patterns on weekends. Furthermore, certain products have higher popularity and reordering rates, indicating customer preferences. Moreover, timing influences shopping habits, with morning hours being more activeUnderstanding reorder behavior helps identify products with potential for customer retention strategies."
   ]
  }
 ],
 "metadata": {
  "kernelspec": {
   "display_name": "Python 3 (ipykernel)",
   "language": "python",
   "name": "python3"
  },
  "language_info": {
   "codemirror_mode": {
    "name": "ipython",
    "version": 3
   },
   "file_extension": ".py",
   "mimetype": "text/x-python",
   "name": "python",
   "nbconvert_exporter": "python",
   "pygments_lexer": "ipython3",
   "version": "3.9.7"
  },
  "toc": {
   "base_numbering": 1,
   "nav_menu": {},
   "number_sections": true,
   "sideBar": true,
   "skip_h1_title": true,
   "title_cell": "Table of Contents",
   "title_sidebar": "Contents",
   "toc_cell": false,
   "toc_position": {},
   "toc_section_display": true,
   "toc_window_display": false
  },
  "vscode": {
   "interpreter": {
    "hash": "01a7be9ec63e704a62cefc5fe7a4756944464ee731be31632bdf42a4cb4688cf"
   }
  }
 },
 "nbformat": 4,
 "nbformat_minor": 5
}
